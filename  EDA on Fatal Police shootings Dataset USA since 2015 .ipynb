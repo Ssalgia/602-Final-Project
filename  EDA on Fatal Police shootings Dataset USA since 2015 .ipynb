{
 "cells": [
  {
   "cell_type": "markdown",
   "id": "8b005fb5",
   "metadata": {},
   "source": [
    "# EDA for a FATAL POLICE SHOOTINGS DATASET"
   ]
  },
  {
   "cell_type": "markdown",
   "id": "8a0e6701",
   "metadata": {},
   "source": [
    "### Data Source - \n",
    "https://data.world/data-society/fatal-police-shootings\n",
    "https://github.com/washingtonpost/data-police-shootings"
   ]
  },
  {
   "cell_type": "code",
   "execution_count": 3,
   "id": "70787416",
   "metadata": {
    "scrolled": true
   },
   "outputs": [
    {
     "data": {
      "text/html": [
       "<div>\n",
       "<style scoped>\n",
       "    .dataframe tbody tr th:only-of-type {\n",
       "        vertical-align: middle;\n",
       "    }\n",
       "\n",
       "    .dataframe tbody tr th {\n",
       "        vertical-align: top;\n",
       "    }\n",
       "\n",
       "    .dataframe thead th {\n",
       "        text-align: right;\n",
       "    }\n",
       "</style>\n",
       "<table border=\"1\" class=\"dataframe\">\n",
       "  <thead>\n",
       "    <tr style=\"text-align: right;\">\n",
       "      <th></th>\n",
       "      <th>id</th>\n",
       "      <th>name</th>\n",
       "      <th>date</th>\n",
       "      <th>manner_of_death</th>\n",
       "      <th>armed</th>\n",
       "      <th>age</th>\n",
       "      <th>gender</th>\n",
       "      <th>race</th>\n",
       "      <th>city</th>\n",
       "      <th>state</th>\n",
       "      <th>signs_of_mental_illness</th>\n",
       "      <th>threat_level</th>\n",
       "      <th>flee</th>\n",
       "      <th>body_camera</th>\n",
       "      <th>longitude</th>\n",
       "      <th>latitude</th>\n",
       "      <th>is_geocoding_exact</th>\n",
       "    </tr>\n",
       "  </thead>\n",
       "  <tbody>\n",
       "    <tr>\n",
       "      <th>0</th>\n",
       "      <td>3</td>\n",
       "      <td>Tim Elliot</td>\n",
       "      <td>2015-01-02</td>\n",
       "      <td>shot</td>\n",
       "      <td>gun</td>\n",
       "      <td>53.0</td>\n",
       "      <td>M</td>\n",
       "      <td>A</td>\n",
       "      <td>Shelton</td>\n",
       "      <td>WA</td>\n",
       "      <td>True</td>\n",
       "      <td>attack</td>\n",
       "      <td>Not fleeing</td>\n",
       "      <td>False</td>\n",
       "      <td>-123.122</td>\n",
       "      <td>47.247</td>\n",
       "      <td>True</td>\n",
       "    </tr>\n",
       "    <tr>\n",
       "      <th>1</th>\n",
       "      <td>4</td>\n",
       "      <td>Lewis Lee Lembke</td>\n",
       "      <td>2015-01-02</td>\n",
       "      <td>shot</td>\n",
       "      <td>gun</td>\n",
       "      <td>47.0</td>\n",
       "      <td>M</td>\n",
       "      <td>W</td>\n",
       "      <td>Aloha</td>\n",
       "      <td>OR</td>\n",
       "      <td>False</td>\n",
       "      <td>attack</td>\n",
       "      <td>Not fleeing</td>\n",
       "      <td>False</td>\n",
       "      <td>-122.892</td>\n",
       "      <td>45.487</td>\n",
       "      <td>True</td>\n",
       "    </tr>\n",
       "    <tr>\n",
       "      <th>2</th>\n",
       "      <td>5</td>\n",
       "      <td>John Paul Quintero</td>\n",
       "      <td>2015-01-03</td>\n",
       "      <td>shot and Tasered</td>\n",
       "      <td>unarmed</td>\n",
       "      <td>23.0</td>\n",
       "      <td>M</td>\n",
       "      <td>H</td>\n",
       "      <td>Wichita</td>\n",
       "      <td>KS</td>\n",
       "      <td>False</td>\n",
       "      <td>other</td>\n",
       "      <td>Not fleeing</td>\n",
       "      <td>False</td>\n",
       "      <td>-97.281</td>\n",
       "      <td>37.695</td>\n",
       "      <td>True</td>\n",
       "    </tr>\n",
       "    <tr>\n",
       "      <th>3</th>\n",
       "      <td>8</td>\n",
       "      <td>Matthew Hoffman</td>\n",
       "      <td>2015-01-04</td>\n",
       "      <td>shot</td>\n",
       "      <td>toy weapon</td>\n",
       "      <td>32.0</td>\n",
       "      <td>M</td>\n",
       "      <td>W</td>\n",
       "      <td>San Francisco</td>\n",
       "      <td>CA</td>\n",
       "      <td>True</td>\n",
       "      <td>attack</td>\n",
       "      <td>Not fleeing</td>\n",
       "      <td>False</td>\n",
       "      <td>-122.422</td>\n",
       "      <td>37.763</td>\n",
       "      <td>True</td>\n",
       "    </tr>\n",
       "    <tr>\n",
       "      <th>4</th>\n",
       "      <td>9</td>\n",
       "      <td>Michael Rodriguez</td>\n",
       "      <td>2015-01-04</td>\n",
       "      <td>shot</td>\n",
       "      <td>nail gun</td>\n",
       "      <td>39.0</td>\n",
       "      <td>M</td>\n",
       "      <td>H</td>\n",
       "      <td>Evans</td>\n",
       "      <td>CO</td>\n",
       "      <td>False</td>\n",
       "      <td>attack</td>\n",
       "      <td>Not fleeing</td>\n",
       "      <td>False</td>\n",
       "      <td>-104.692</td>\n",
       "      <td>40.384</td>\n",
       "      <td>True</td>\n",
       "    </tr>\n",
       "  </tbody>\n",
       "</table>\n",
       "</div>"
      ],
      "text/plain": [
       "   id                name        date   manner_of_death       armed   age  \\\n",
       "0   3          Tim Elliot  2015-01-02              shot         gun  53.0   \n",
       "1   4    Lewis Lee Lembke  2015-01-02              shot         gun  47.0   \n",
       "2   5  John Paul Quintero  2015-01-03  shot and Tasered     unarmed  23.0   \n",
       "3   8     Matthew Hoffman  2015-01-04              shot  toy weapon  32.0   \n",
       "4   9   Michael Rodriguez  2015-01-04              shot    nail gun  39.0   \n",
       "\n",
       "  gender race           city state  signs_of_mental_illness threat_level  \\\n",
       "0      M    A        Shelton    WA                     True       attack   \n",
       "1      M    W          Aloha    OR                    False       attack   \n",
       "2      M    H        Wichita    KS                    False        other   \n",
       "3      M    W  San Francisco    CA                     True       attack   \n",
       "4      M    H          Evans    CO                    False       attack   \n",
       "\n",
       "          flee  body_camera  longitude  latitude  is_geocoding_exact  \n",
       "0  Not fleeing        False   -123.122    47.247                True  \n",
       "1  Not fleeing        False   -122.892    45.487                True  \n",
       "2  Not fleeing        False    -97.281    37.695                True  \n",
       "3  Not fleeing        False   -122.422    37.763                True  \n",
       "4  Not fleeing        False   -104.692    40.384                True  "
      ]
     },
     "execution_count": 3,
     "metadata": {},
     "output_type": "execute_result"
    }
   ],
   "source": [
    "#Load the dataset\n",
    "import pandas as pd\n",
    "import numpy as np\n",
    "import matplotlib.pyplot as plt\n",
    "import seaborn as sns\n",
    "%matplotlib inline\n",
    "\n",
    "df = pd.read_csv('Dataset 1 fatal-police-shootings-data.csv')\n",
    "df.head()"
   ]
  },
  {
   "cell_type": "code",
   "execution_count": 4,
   "id": "b207e52f",
   "metadata": {},
   "outputs": [
    {
     "data": {
      "text/plain": [
       "(7232, 17)"
      ]
     },
     "execution_count": 4,
     "metadata": {},
     "output_type": "execute_result"
    }
   ],
   "source": [
    "#shape of the dataframe\n",
    "df.shape"
   ]
  },
  {
   "cell_type": "code",
   "execution_count": 66,
   "id": "c7a48dbf",
   "metadata": {
    "scrolled": true
   },
   "outputs": [
    {
     "data": {
      "text/plain": [
       "id                           int64\n",
       "name                        object\n",
       "date                        object\n",
       "manner_of_death             object\n",
       "armed                       object\n",
       "age                        float64\n",
       "gender                      object\n",
       "race                        object\n",
       "city                        object\n",
       "state                       object\n",
       "signs_of_mental_illness       bool\n",
       "threat_level                object\n",
       "flee                        object\n",
       "body_camera                   bool\n",
       "longitude                  float64\n",
       "latitude                   float64\n",
       "is_geocoding_exact            bool\n",
       "dtype: object"
      ]
     },
     "execution_count": 66,
     "metadata": {},
     "output_type": "execute_result"
    }
   ],
   "source": [
    "df.dtypes"
   ]
  },
  {
   "cell_type": "markdown",
   "id": "1890583c",
   "metadata": {},
   "source": [
    "Here we see that the date attribute has object dtype instead of date time attribute."
   ]
  },
  {
   "cell_type": "code",
   "execution_count": 68,
   "id": "1b7e9f9a",
   "metadata": {},
   "outputs": [
    {
     "data": {
      "text/plain": [
       "id                                  int64\n",
       "name                               object\n",
       "date                       datetime64[ns]\n",
       "manner_of_death                    object\n",
       "armed                              object\n",
       "age                               float64\n",
       "gender                             object\n",
       "race                               object\n",
       "city                               object\n",
       "state                              object\n",
       "signs_of_mental_illness              bool\n",
       "threat_level                       object\n",
       "flee                               object\n",
       "body_camera                          bool\n",
       "longitude                         float64\n",
       "latitude                          float64\n",
       "is_geocoding_exact                   bool\n",
       "dtype: object"
      ]
     },
     "execution_count": 68,
     "metadata": {},
     "output_type": "execute_result"
    }
   ],
   "source": [
    "#convert this to Datetime\n",
    "df['date']= pd.to_datetime(df['date'])\n",
    "df.dtypes"
   ]
  },
  {
   "cell_type": "code",
   "execution_count": 5,
   "id": "49c090ca",
   "metadata": {},
   "outputs": [
    {
     "data": {
      "text/html": [
       "<div>\n",
       "<style scoped>\n",
       "    .dataframe tbody tr th:only-of-type {\n",
       "        vertical-align: middle;\n",
       "    }\n",
       "\n",
       "    .dataframe tbody tr th {\n",
       "        vertical-align: top;\n",
       "    }\n",
       "\n",
       "    .dataframe thead th {\n",
       "        text-align: right;\n",
       "    }\n",
       "</style>\n",
       "<table border=\"1\" class=\"dataframe\">\n",
       "  <thead>\n",
       "    <tr style=\"text-align: right;\">\n",
       "      <th></th>\n",
       "      <th>id</th>\n",
       "      <th>name</th>\n",
       "      <th>date</th>\n",
       "      <th>manner_of_death</th>\n",
       "      <th>armed</th>\n",
       "      <th>age</th>\n",
       "      <th>gender</th>\n",
       "      <th>race</th>\n",
       "      <th>city</th>\n",
       "      <th>state</th>\n",
       "      <th>signs_of_mental_illness</th>\n",
       "      <th>threat_level</th>\n",
       "      <th>flee</th>\n",
       "      <th>body_camera</th>\n",
       "      <th>longitude</th>\n",
       "      <th>latitude</th>\n",
       "      <th>is_geocoding_exact</th>\n",
       "    </tr>\n",
       "  </thead>\n",
       "  <tbody>\n",
       "    <tr>\n",
       "      <th>0</th>\n",
       "      <td>False</td>\n",
       "      <td>False</td>\n",
       "      <td>False</td>\n",
       "      <td>False</td>\n",
       "      <td>False</td>\n",
       "      <td>False</td>\n",
       "      <td>False</td>\n",
       "      <td>False</td>\n",
       "      <td>False</td>\n",
       "      <td>False</td>\n",
       "      <td>False</td>\n",
       "      <td>False</td>\n",
       "      <td>False</td>\n",
       "      <td>False</td>\n",
       "      <td>False</td>\n",
       "      <td>False</td>\n",
       "      <td>False</td>\n",
       "    </tr>\n",
       "    <tr>\n",
       "      <th>1</th>\n",
       "      <td>False</td>\n",
       "      <td>False</td>\n",
       "      <td>False</td>\n",
       "      <td>False</td>\n",
       "      <td>False</td>\n",
       "      <td>False</td>\n",
       "      <td>False</td>\n",
       "      <td>False</td>\n",
       "      <td>False</td>\n",
       "      <td>False</td>\n",
       "      <td>False</td>\n",
       "      <td>False</td>\n",
       "      <td>False</td>\n",
       "      <td>False</td>\n",
       "      <td>False</td>\n",
       "      <td>False</td>\n",
       "      <td>False</td>\n",
       "    </tr>\n",
       "    <tr>\n",
       "      <th>2</th>\n",
       "      <td>False</td>\n",
       "      <td>False</td>\n",
       "      <td>False</td>\n",
       "      <td>False</td>\n",
       "      <td>False</td>\n",
       "      <td>False</td>\n",
       "      <td>False</td>\n",
       "      <td>False</td>\n",
       "      <td>False</td>\n",
       "      <td>False</td>\n",
       "      <td>False</td>\n",
       "      <td>False</td>\n",
       "      <td>False</td>\n",
       "      <td>False</td>\n",
       "      <td>False</td>\n",
       "      <td>False</td>\n",
       "      <td>False</td>\n",
       "    </tr>\n",
       "    <tr>\n",
       "      <th>3</th>\n",
       "      <td>False</td>\n",
       "      <td>False</td>\n",
       "      <td>False</td>\n",
       "      <td>False</td>\n",
       "      <td>False</td>\n",
       "      <td>False</td>\n",
       "      <td>False</td>\n",
       "      <td>False</td>\n",
       "      <td>False</td>\n",
       "      <td>False</td>\n",
       "      <td>False</td>\n",
       "      <td>False</td>\n",
       "      <td>False</td>\n",
       "      <td>False</td>\n",
       "      <td>False</td>\n",
       "      <td>False</td>\n",
       "      <td>False</td>\n",
       "    </tr>\n",
       "    <tr>\n",
       "      <th>4</th>\n",
       "      <td>False</td>\n",
       "      <td>False</td>\n",
       "      <td>False</td>\n",
       "      <td>False</td>\n",
       "      <td>False</td>\n",
       "      <td>False</td>\n",
       "      <td>False</td>\n",
       "      <td>False</td>\n",
       "      <td>False</td>\n",
       "      <td>False</td>\n",
       "      <td>False</td>\n",
       "      <td>False</td>\n",
       "      <td>False</td>\n",
       "      <td>False</td>\n",
       "      <td>False</td>\n",
       "      <td>False</td>\n",
       "      <td>False</td>\n",
       "    </tr>\n",
       "    <tr>\n",
       "      <th>...</th>\n",
       "      <td>...</td>\n",
       "      <td>...</td>\n",
       "      <td>...</td>\n",
       "      <td>...</td>\n",
       "      <td>...</td>\n",
       "      <td>...</td>\n",
       "      <td>...</td>\n",
       "      <td>...</td>\n",
       "      <td>...</td>\n",
       "      <td>...</td>\n",
       "      <td>...</td>\n",
       "      <td>...</td>\n",
       "      <td>...</td>\n",
       "      <td>...</td>\n",
       "      <td>...</td>\n",
       "      <td>...</td>\n",
       "      <td>...</td>\n",
       "    </tr>\n",
       "    <tr>\n",
       "      <th>7227</th>\n",
       "      <td>False</td>\n",
       "      <td>False</td>\n",
       "      <td>False</td>\n",
       "      <td>False</td>\n",
       "      <td>False</td>\n",
       "      <td>False</td>\n",
       "      <td>False</td>\n",
       "      <td>True</td>\n",
       "      <td>False</td>\n",
       "      <td>False</td>\n",
       "      <td>False</td>\n",
       "      <td>False</td>\n",
       "      <td>False</td>\n",
       "      <td>False</td>\n",
       "      <td>False</td>\n",
       "      <td>False</td>\n",
       "      <td>False</td>\n",
       "    </tr>\n",
       "    <tr>\n",
       "      <th>7228</th>\n",
       "      <td>False</td>\n",
       "      <td>False</td>\n",
       "      <td>False</td>\n",
       "      <td>False</td>\n",
       "      <td>False</td>\n",
       "      <td>False</td>\n",
       "      <td>False</td>\n",
       "      <td>True</td>\n",
       "      <td>False</td>\n",
       "      <td>False</td>\n",
       "      <td>False</td>\n",
       "      <td>False</td>\n",
       "      <td>False</td>\n",
       "      <td>False</td>\n",
       "      <td>False</td>\n",
       "      <td>False</td>\n",
       "      <td>False</td>\n",
       "    </tr>\n",
       "    <tr>\n",
       "      <th>7229</th>\n",
       "      <td>False</td>\n",
       "      <td>True</td>\n",
       "      <td>False</td>\n",
       "      <td>False</td>\n",
       "      <td>False</td>\n",
       "      <td>True</td>\n",
       "      <td>False</td>\n",
       "      <td>True</td>\n",
       "      <td>False</td>\n",
       "      <td>False</td>\n",
       "      <td>False</td>\n",
       "      <td>False</td>\n",
       "      <td>False</td>\n",
       "      <td>False</td>\n",
       "      <td>False</td>\n",
       "      <td>False</td>\n",
       "      <td>False</td>\n",
       "    </tr>\n",
       "    <tr>\n",
       "      <th>7230</th>\n",
       "      <td>False</td>\n",
       "      <td>True</td>\n",
       "      <td>False</td>\n",
       "      <td>False</td>\n",
       "      <td>False</td>\n",
       "      <td>False</td>\n",
       "      <td>False</td>\n",
       "      <td>True</td>\n",
       "      <td>False</td>\n",
       "      <td>False</td>\n",
       "      <td>False</td>\n",
       "      <td>False</td>\n",
       "      <td>False</td>\n",
       "      <td>False</td>\n",
       "      <td>False</td>\n",
       "      <td>False</td>\n",
       "      <td>False</td>\n",
       "    </tr>\n",
       "    <tr>\n",
       "      <th>7231</th>\n",
       "      <td>False</td>\n",
       "      <td>True</td>\n",
       "      <td>False</td>\n",
       "      <td>False</td>\n",
       "      <td>False</td>\n",
       "      <td>False</td>\n",
       "      <td>False</td>\n",
       "      <td>True</td>\n",
       "      <td>False</td>\n",
       "      <td>False</td>\n",
       "      <td>False</td>\n",
       "      <td>False</td>\n",
       "      <td>True</td>\n",
       "      <td>False</td>\n",
       "      <td>False</td>\n",
       "      <td>False</td>\n",
       "      <td>False</td>\n",
       "    </tr>\n",
       "  </tbody>\n",
       "</table>\n",
       "<p>7232 rows × 17 columns</p>\n",
       "</div>"
      ],
      "text/plain": [
       "         id   name   date  manner_of_death  armed    age  gender   race  \\\n",
       "0     False  False  False            False  False  False   False  False   \n",
       "1     False  False  False            False  False  False   False  False   \n",
       "2     False  False  False            False  False  False   False  False   \n",
       "3     False  False  False            False  False  False   False  False   \n",
       "4     False  False  False            False  False  False   False  False   \n",
       "...     ...    ...    ...              ...    ...    ...     ...    ...   \n",
       "7227  False  False  False            False  False  False   False   True   \n",
       "7228  False  False  False            False  False  False   False   True   \n",
       "7229  False   True  False            False  False   True   False   True   \n",
       "7230  False   True  False            False  False  False   False   True   \n",
       "7231  False   True  False            False  False  False   False   True   \n",
       "\n",
       "       city  state  signs_of_mental_illness  threat_level   flee  body_camera  \\\n",
       "0     False  False                    False         False  False        False   \n",
       "1     False  False                    False         False  False        False   \n",
       "2     False  False                    False         False  False        False   \n",
       "3     False  False                    False         False  False        False   \n",
       "4     False  False                    False         False  False        False   \n",
       "...     ...    ...                      ...           ...    ...          ...   \n",
       "7227  False  False                    False         False  False        False   \n",
       "7228  False  False                    False         False  False        False   \n",
       "7229  False  False                    False         False  False        False   \n",
       "7230  False  False                    False         False  False        False   \n",
       "7231  False  False                    False         False   True        False   \n",
       "\n",
       "      longitude  latitude  is_geocoding_exact  \n",
       "0         False     False               False  \n",
       "1         False     False               False  \n",
       "2         False     False               False  \n",
       "3         False     False               False  \n",
       "4         False     False               False  \n",
       "...         ...       ...                 ...  \n",
       "7227      False     False               False  \n",
       "7228      False     False               False  \n",
       "7229      False     False               False  \n",
       "7230      False     False               False  \n",
       "7231      False     False               False  \n",
       "\n",
       "[7232 rows x 17 columns]"
      ]
     },
     "execution_count": 5,
     "metadata": {},
     "output_type": "execute_result"
    }
   ],
   "source": [
    "#check for null values\n",
    "df.isnull()"
   ]
  },
  {
   "cell_type": "code",
   "execution_count": 6,
   "id": "198fd935",
   "metadata": {
    "scrolled": false
   },
   "outputs": [
    {
     "data": {
      "text/plain": [
       "id                            0\n",
       "name                        353\n",
       "date                          0\n",
       "manner_of_death               0\n",
       "armed                       209\n",
       "age                         409\n",
       "gender                        7\n",
       "race                       1287\n",
       "city                          0\n",
       "state                         0\n",
       "signs_of_mental_illness       0\n",
       "threat_level                  0\n",
       "flee                        640\n",
       "body_camera                   0\n",
       "longitude                   710\n",
       "latitude                    710\n",
       "is_geocoding_exact            0\n",
       "dtype: int64"
      ]
     },
     "execution_count": 6,
     "metadata": {},
     "output_type": "execute_result"
    }
   ],
   "source": [
    " df.isnull().sum()"
   ]
  },
  {
   "cell_type": "markdown",
   "id": "855061d8",
   "metadata": {},
   "source": [
    "### Drop the name column because it won't be of any help for the analysis."
   ]
  },
  {
   "cell_type": "code",
   "execution_count": 70,
   "id": "358cd127",
   "metadata": {
    "scrolled": false
   },
   "outputs": [
    {
     "data": {
      "text/html": [
       "<div>\n",
       "<style scoped>\n",
       "    .dataframe tbody tr th:only-of-type {\n",
       "        vertical-align: middle;\n",
       "    }\n",
       "\n",
       "    .dataframe tbody tr th {\n",
       "        vertical-align: top;\n",
       "    }\n",
       "\n",
       "    .dataframe thead th {\n",
       "        text-align: right;\n",
       "    }\n",
       "</style>\n",
       "<table border=\"1\" class=\"dataframe\">\n",
       "  <thead>\n",
       "    <tr style=\"text-align: right;\">\n",
       "      <th></th>\n",
       "      <th>id</th>\n",
       "      <th>date</th>\n",
       "      <th>manner_of_death</th>\n",
       "      <th>armed</th>\n",
       "      <th>age</th>\n",
       "      <th>gender</th>\n",
       "      <th>race</th>\n",
       "      <th>city</th>\n",
       "      <th>state</th>\n",
       "      <th>signs_of_mental_illness</th>\n",
       "      <th>threat_level</th>\n",
       "      <th>flee</th>\n",
       "      <th>body_camera</th>\n",
       "      <th>longitude</th>\n",
       "      <th>latitude</th>\n",
       "      <th>is_geocoding_exact</th>\n",
       "    </tr>\n",
       "  </thead>\n",
       "  <tbody>\n",
       "    <tr>\n",
       "      <th>0</th>\n",
       "      <td>3</td>\n",
       "      <td>2015-01-02</td>\n",
       "      <td>shot</td>\n",
       "      <td>gun</td>\n",
       "      <td>53.0</td>\n",
       "      <td>M</td>\n",
       "      <td>A</td>\n",
       "      <td>Shelton</td>\n",
       "      <td>WA</td>\n",
       "      <td>True</td>\n",
       "      <td>attack</td>\n",
       "      <td>Not fleeing</td>\n",
       "      <td>False</td>\n",
       "      <td>-123.122</td>\n",
       "      <td>47.247</td>\n",
       "      <td>True</td>\n",
       "    </tr>\n",
       "    <tr>\n",
       "      <th>1</th>\n",
       "      <td>4</td>\n",
       "      <td>2015-01-02</td>\n",
       "      <td>shot</td>\n",
       "      <td>gun</td>\n",
       "      <td>47.0</td>\n",
       "      <td>M</td>\n",
       "      <td>W</td>\n",
       "      <td>Aloha</td>\n",
       "      <td>OR</td>\n",
       "      <td>False</td>\n",
       "      <td>attack</td>\n",
       "      <td>Not fleeing</td>\n",
       "      <td>False</td>\n",
       "      <td>-122.892</td>\n",
       "      <td>45.487</td>\n",
       "      <td>True</td>\n",
       "    </tr>\n",
       "    <tr>\n",
       "      <th>2</th>\n",
       "      <td>5</td>\n",
       "      <td>2015-01-03</td>\n",
       "      <td>shot and Tasered</td>\n",
       "      <td>unarmed</td>\n",
       "      <td>23.0</td>\n",
       "      <td>M</td>\n",
       "      <td>H</td>\n",
       "      <td>Wichita</td>\n",
       "      <td>KS</td>\n",
       "      <td>False</td>\n",
       "      <td>other</td>\n",
       "      <td>Not fleeing</td>\n",
       "      <td>False</td>\n",
       "      <td>-97.281</td>\n",
       "      <td>37.695</td>\n",
       "      <td>True</td>\n",
       "    </tr>\n",
       "    <tr>\n",
       "      <th>3</th>\n",
       "      <td>8</td>\n",
       "      <td>2015-01-04</td>\n",
       "      <td>shot</td>\n",
       "      <td>toy weapon</td>\n",
       "      <td>32.0</td>\n",
       "      <td>M</td>\n",
       "      <td>W</td>\n",
       "      <td>San Francisco</td>\n",
       "      <td>CA</td>\n",
       "      <td>True</td>\n",
       "      <td>attack</td>\n",
       "      <td>Not fleeing</td>\n",
       "      <td>False</td>\n",
       "      <td>-122.422</td>\n",
       "      <td>37.763</td>\n",
       "      <td>True</td>\n",
       "    </tr>\n",
       "    <tr>\n",
       "      <th>4</th>\n",
       "      <td>9</td>\n",
       "      <td>2015-01-04</td>\n",
       "      <td>shot</td>\n",
       "      <td>nail gun</td>\n",
       "      <td>39.0</td>\n",
       "      <td>M</td>\n",
       "      <td>H</td>\n",
       "      <td>Evans</td>\n",
       "      <td>CO</td>\n",
       "      <td>False</td>\n",
       "      <td>attack</td>\n",
       "      <td>Not fleeing</td>\n",
       "      <td>False</td>\n",
       "      <td>-104.692</td>\n",
       "      <td>40.384</td>\n",
       "      <td>True</td>\n",
       "    </tr>\n",
       "  </tbody>\n",
       "</table>\n",
       "</div>"
      ],
      "text/plain": [
       "   id       date   manner_of_death       armed   age gender race  \\\n",
       "0   3 2015-01-02              shot         gun  53.0      M    A   \n",
       "1   4 2015-01-02              shot         gun  47.0      M    W   \n",
       "2   5 2015-01-03  shot and Tasered     unarmed  23.0      M    H   \n",
       "3   8 2015-01-04              shot  toy weapon  32.0      M    W   \n",
       "4   9 2015-01-04              shot    nail gun  39.0      M    H   \n",
       "\n",
       "            city state  signs_of_mental_illness threat_level         flee  \\\n",
       "0        Shelton    WA                     True       attack  Not fleeing   \n",
       "1          Aloha    OR                    False       attack  Not fleeing   \n",
       "2        Wichita    KS                    False        other  Not fleeing   \n",
       "3  San Francisco    CA                     True       attack  Not fleeing   \n",
       "4          Evans    CO                    False       attack  Not fleeing   \n",
       "\n",
       "   body_camera  longitude  latitude  is_geocoding_exact  \n",
       "0        False   -123.122    47.247                True  \n",
       "1        False   -122.892    45.487                True  \n",
       "2        False    -97.281    37.695                True  \n",
       "3        False   -122.422    37.763                True  \n",
       "4        False   -104.692    40.384                True  "
      ]
     },
     "execution_count": 70,
     "metadata": {},
     "output_type": "execute_result"
    }
   ],
   "source": [
    "#we can drop the columns id and name as they are not relevant to our analysis also because name column has about 350 null values and imputing them won't be of any significance\n",
    "police_shootings = df.drop(['name'],axis=1)\n",
    "police_shootings.head()"
   ]
  },
  {
   "cell_type": "code",
   "execution_count": 55,
   "id": "8c62773f",
   "metadata": {
    "scrolled": false
   },
   "outputs": [
    {
     "data": {
      "text/plain": [
       "id                            0\n",
       "date                          0\n",
       "manner_of_death               0\n",
       "armed                       209\n",
       "age                         409\n",
       "gender                        7\n",
       "race                       1287\n",
       "city                          0\n",
       "state                         0\n",
       "signs_of_mental_illness       0\n",
       "threat_level                  0\n",
       "flee                        640\n",
       "body_camera                   0\n",
       "longitude                   710\n",
       "latitude                    710\n",
       "is_geocoding_exact            0\n",
       "dtype: int64"
      ]
     },
     "execution_count": 55,
     "metadata": {},
     "output_type": "execute_result"
    }
   ],
   "source": [
    "police_shootings.isnull().sum()"
   ]
  },
  {
   "cell_type": "markdown",
   "id": "b17e0c52",
   "metadata": {},
   "source": [
    "From the final output the columns armed(209), age(409), gender(7), race(1287), flee(640) and the latitude and longitude(710) null values. "
   ]
  },
  {
   "cell_type": "code",
   "execution_count": 33,
   "id": "2e817c99",
   "metadata": {},
   "outputs": [
    {
     "data": {
      "text/plain": [
       "gun                    4337\n",
       "knife                  1046\n",
       "unarmed                 441\n",
       "vehicle                 260\n",
       "undetermined            253\n",
       "                       ... \n",
       "grenade                   1\n",
       "contractor's level        1\n",
       "pen                       1\n",
       "car, knife and mace       1\n",
       "bow and arrow             1\n",
       "Name: armed, Length: 98, dtype: int64"
      ]
     },
     "execution_count": 33,
     "metadata": {},
     "output_type": "execute_result"
    }
   ],
   "source": [
    "#Lets figure out how the categories under the arms column\n",
    "\n",
    "police_shootings.armed.value_counts()"
   ]
  },
  {
   "cell_type": "code",
   "execution_count": 34,
   "id": "f68b2cfd",
   "metadata": {
    "scrolled": false
   },
   "outputs": [
    {
     "data": {
      "text/plain": [
       "W    4308\n",
       "B    1593\n",
       "H    1088\n",
       "A     105\n",
       "N      91\n",
       "O      47\n",
       "Name: race, dtype: int64"
      ]
     },
     "execution_count": 34,
     "metadata": {},
     "output_type": "execute_result"
    }
   ],
   "source": [
    "police_shootings.race.value_counts()\n"
   ]
  },
  {
   "cell_type": "code",
   "execution_count": 44,
   "id": "ff2b7f68",
   "metadata": {},
   "outputs": [
    {
     "data": {
      "text/html": [
       "<div>\n",
       "<style scoped>\n",
       "    .dataframe tbody tr th:only-of-type {\n",
       "        vertical-align: middle;\n",
       "    }\n",
       "\n",
       "    .dataframe tbody tr th {\n",
       "        vertical-align: top;\n",
       "    }\n",
       "\n",
       "    .dataframe thead th {\n",
       "        text-align: right;\n",
       "    }\n",
       "</style>\n",
       "<table border=\"1\" class=\"dataframe\">\n",
       "  <thead>\n",
       "    <tr style=\"text-align: right;\">\n",
       "      <th></th>\n",
       "      <th>id</th>\n",
       "      <th>date</th>\n",
       "      <th>manner_of_death</th>\n",
       "      <th>armed</th>\n",
       "      <th>age</th>\n",
       "      <th>gender</th>\n",
       "      <th>race</th>\n",
       "      <th>city</th>\n",
       "      <th>state</th>\n",
       "      <th>signs_of_mental_illness</th>\n",
       "      <th>threat_level</th>\n",
       "      <th>body_camera</th>\n",
       "      <th>longitude</th>\n",
       "      <th>latitude</th>\n",
       "      <th>is_geocoding_exact</th>\n",
       "    </tr>\n",
       "  </thead>\n",
       "  <tbody>\n",
       "    <tr>\n",
       "      <th>0</th>\n",
       "      <td>3</td>\n",
       "      <td>2015-01-02</td>\n",
       "      <td>shot</td>\n",
       "      <td>gun</td>\n",
       "      <td>53.0</td>\n",
       "      <td>M</td>\n",
       "      <td>A</td>\n",
       "      <td>Shelton</td>\n",
       "      <td>WA</td>\n",
       "      <td>True</td>\n",
       "      <td>attack</td>\n",
       "      <td>False</td>\n",
       "      <td>-123.122</td>\n",
       "      <td>47.247</td>\n",
       "      <td>True</td>\n",
       "    </tr>\n",
       "    <tr>\n",
       "      <th>1</th>\n",
       "      <td>4</td>\n",
       "      <td>2015-01-02</td>\n",
       "      <td>shot</td>\n",
       "      <td>gun</td>\n",
       "      <td>47.0</td>\n",
       "      <td>M</td>\n",
       "      <td>W</td>\n",
       "      <td>Aloha</td>\n",
       "      <td>OR</td>\n",
       "      <td>False</td>\n",
       "      <td>attack</td>\n",
       "      <td>False</td>\n",
       "      <td>-122.892</td>\n",
       "      <td>45.487</td>\n",
       "      <td>True</td>\n",
       "    </tr>\n",
       "    <tr>\n",
       "      <th>2</th>\n",
       "      <td>5</td>\n",
       "      <td>2015-01-03</td>\n",
       "      <td>shot and Tasered</td>\n",
       "      <td>unarmed</td>\n",
       "      <td>23.0</td>\n",
       "      <td>M</td>\n",
       "      <td>H</td>\n",
       "      <td>Wichita</td>\n",
       "      <td>KS</td>\n",
       "      <td>False</td>\n",
       "      <td>other</td>\n",
       "      <td>False</td>\n",
       "      <td>-97.281</td>\n",
       "      <td>37.695</td>\n",
       "      <td>True</td>\n",
       "    </tr>\n",
       "    <tr>\n",
       "      <th>3</th>\n",
       "      <td>8</td>\n",
       "      <td>2015-01-04</td>\n",
       "      <td>shot</td>\n",
       "      <td>toy weapon</td>\n",
       "      <td>32.0</td>\n",
       "      <td>M</td>\n",
       "      <td>W</td>\n",
       "      <td>San Francisco</td>\n",
       "      <td>CA</td>\n",
       "      <td>True</td>\n",
       "      <td>attack</td>\n",
       "      <td>False</td>\n",
       "      <td>-122.422</td>\n",
       "      <td>37.763</td>\n",
       "      <td>True</td>\n",
       "    </tr>\n",
       "    <tr>\n",
       "      <th>4</th>\n",
       "      <td>9</td>\n",
       "      <td>2015-01-04</td>\n",
       "      <td>shot</td>\n",
       "      <td>nail gun</td>\n",
       "      <td>39.0</td>\n",
       "      <td>M</td>\n",
       "      <td>H</td>\n",
       "      <td>Evans</td>\n",
       "      <td>CO</td>\n",
       "      <td>False</td>\n",
       "      <td>attack</td>\n",
       "      <td>False</td>\n",
       "      <td>-104.692</td>\n",
       "      <td>40.384</td>\n",
       "      <td>True</td>\n",
       "    </tr>\n",
       "  </tbody>\n",
       "</table>\n",
       "</div>"
      ],
      "text/plain": [
       "   id        date   manner_of_death       armed   age gender race  \\\n",
       "0   3  2015-01-02              shot         gun  53.0      M    A   \n",
       "1   4  2015-01-02              shot         gun  47.0      M    W   \n",
       "2   5  2015-01-03  shot and Tasered     unarmed  23.0      M    H   \n",
       "3   8  2015-01-04              shot  toy weapon  32.0      M    W   \n",
       "4   9  2015-01-04              shot    nail gun  39.0      M    H   \n",
       "\n",
       "            city state  signs_of_mental_illness threat_level  body_camera  \\\n",
       "0        Shelton    WA                     True       attack        False   \n",
       "1          Aloha    OR                    False       attack        False   \n",
       "2        Wichita    KS                    False        other        False   \n",
       "3  San Francisco    CA                     True       attack        False   \n",
       "4          Evans    CO                    False       attack        False   \n",
       "\n",
       "   longitude  latitude  is_geocoding_exact  \n",
       "0   -123.122    47.247                True  \n",
       "1   -122.892    45.487                True  \n",
       "2    -97.281    37.695                True  \n",
       "3   -122.422    37.763                True  \n",
       "4   -104.692    40.384                True  "
      ]
     },
     "execution_count": 44,
     "metadata": {},
     "output_type": "execute_result"
    }
   ],
   "source": [
    "police_shootings.head()"
   ]
  },
  {
   "cell_type": "markdown",
   "id": "aaa26b18",
   "metadata": {},
   "source": [
    "## Data Analysis"
   ]
  },
  {
   "cell_type": "markdown",
   "id": "d1291716",
   "metadata": {},
   "source": [
    "### Manner of Death"
   ]
  },
  {
   "cell_type": "markdown",
   "id": "d3aeb627",
   "metadata": {},
   "source": [
    "#### Percentage of 2 manners of death"
   ]
  },
  {
   "cell_type": "code",
   "execution_count": 56,
   "id": "eacb6534",
   "metadata": {
    "scrolled": false
   },
   "outputs": [
    {
     "data": {
      "image/png": "[encoded data removed]",
      "text/plain": [
       "<Figure size 432x288 with 1 Axes>"
      ]
     },
     "metadata": {},
     "output_type": "display_data"
    }
   ],
   "source": [
    "police_shootings.manner_of_death.value_counts().plot.pie(autopct='%1.1f%%',fontsize=12,shadow=True,explode=[0.4,0.2])\n",
    "plt.title(\"Manner of death count\",fontsize=15)\n",
    "plt.ylabel('')\n",
    "plt.show()"
   ]
  },
  {
   "cell_type": "markdown",
   "id": "afda4104",
   "metadata": {},
   "source": [
    "As per the pie chart the majority of the fatal killings were done by direct shooting while just the 4-5% shootings were where the victim was forst shot and then tasered."
   ]
  },
  {
   "cell_type": "markdown",
   "id": "ccce8ef9",
   "metadata": {},
   "source": [
    "#### Manner of death as per mental Illness"
   ]
  },
  {
   "cell_type": "code",
   "execution_count": 57,
   "id": "fa747159",
   "metadata": {
    "scrolled": true
   },
   "outputs": [
    {
     "data": {
      "image/png": "[encoded data removed]",
      "text/plain": [
       "<Figure size 432x288 with 1 Axes>"
      ]
     },
     "metadata": {
      "needs_background": "light"
     },
     "output_type": "display_data"
    }
   ],
   "source": [
    "sns.barplot(x=\"manner_of_death\", y=\"age\",hue='signs_of_mental_illness',data=police_shootings)\n",
    "plt.yticks(np.arange(0,100,10))\n",
    "plt.show()\n"
   ]
  },
  {
   "cell_type": "markdown",
   "id": "9c44f260",
   "metadata": {},
   "source": [
    "From the above plot we can generalize that the majority of (shooting & tasered) were on victims with mental illness. Between age *35-40* for only shot victims and *35-45* for victims that were shot and tasered. But we also see that there is not much of a difference in the deaths without signs of mental illness."
   ]
  },
  {
   "cell_type": "markdown",
   "id": "a5658604",
   "metadata": {},
   "source": [
    "#### Manner of death, threat level and mental illness."
   ]
  },
  {
   "cell_type": "code",
   "execution_count": 58,
   "id": "c18bd768",
   "metadata": {
    "scrolled": true
   },
   "outputs": [
    {
     "data": {
      "image/png": "[encoded data removed]",
      "text/plain": [
       "<Figure size 1080x432 with 1 Axes>"
      ]
     },
     "metadata": {
      "needs_background": "light"
     },
     "output_type": "display_data"
    }
   ],
   "source": [
    "#https://www.geeksforgeeks.org/seaborn-barplot-method-in-python/\n",
    "plt.figure(figsize=(15,6))\n",
    "ax = sns.barplot(x='signs_of_mental_illness',y='age',hue='threat_level',data=(police_shootings.groupby(['signs_of_mental_illness','threat_level'],as_index=False).age.count()))\n",
    "for p in ax.patches:\n",
    "    ax.annotate(p.get_height(), (p.get_x() + p.get_width() / 2., p.get_height()+50),ha = 'center', va = 'center')\n",
    "plt.xlabel('signs of mental illness',size=15)\n",
    "plt.ylabel('threat level',size=15)\n",
    "plt.show()"
   ]
  },
  {
   "cell_type": "markdown",
   "id": "e8aafb20",
   "metadata": {},
   "source": [
    "People with mental illness mostly attacked the officer more than other and undetermined categories."
   ]
  },
  {
   "cell_type": "markdown",
   "id": "9bd61d86",
   "metadata": {},
   "source": [
    "#### Manner of death by Age and Gender"
   ]
  },
  {
   "cell_type": "code",
   "execution_count": 59,
   "id": "2f865c05",
   "metadata": {
    "scrolled": false
   },
   "outputs": [
    {
     "data": {
      "image/png": "[encoded data removed]",
      "text/plain": [
       "<Figure size 404.625x360 with 1 Axes>"
      ]
     },
     "metadata": {
      "needs_background": "light"
     },
     "output_type": "display_data"
    }
   ],
   "source": [
    "#references - https://www.geeksforgeeks.org/python-seaborn-catplot/\n",
    "sns.catplot(x=\"manner_of_death\", y=\"age\",hue='gender', kind=\"violin\",data=police_shootings)\n",
    "plt.yticks(np.arange(0,100,10))\n",
    "plt.show()"
   ]
  },
  {
   "cell_type": "markdown",
   "id": "b23a27be",
   "metadata": {},
   "source": [
    "A Violin plot depicts the summary statistics and the density of each variable.\n",
    "\n",
    "1.From the above plot what we observe is the median( white dots on the gray bar) for male victims is lower than the Female victims for shot and taserd category.\n",
    "2.The thin shape at the ends  for Male and Female victims who were shot shows that the values are concentrated sround the median values that is around age 35."
   ]
  },
  {
   "cell_type": "markdown",
   "id": "f35a962f",
   "metadata": {},
   "source": [
    "#### Manner of Death by Age and Race"
   ]
  },
  {
   "cell_type": "code",
   "execution_count": 24,
   "id": "46af3884",
   "metadata": {
    "scrolled": true
   },
   "outputs": [
    {
     "data": {
      "image/png": "[encoded data removed]",
      "text/plain": [
       "<Figure size 432x288 with 1 Axes>"
      ]
     },
     "metadata": {
      "needs_background": "light"
     },
     "output_type": "display_data"
    }
   ],
   "source": [
    "sns.boxplot(x=\"manner_of_death\", y=\"age\",hue='race',data=police_shootings)\n",
    "plt.yticks(np.arange(0,100,10))\n",
    "plt.show()"
   ]
  },
  {
   "cell_type": "markdown",
   "id": "bbc4ce49",
   "metadata": {},
   "source": [
    "1.If we see the box plots and each race as a section then many victims were of similar age  at certain parts of the scale, but in other parts of the scale the ages are more variable.\n",
    "2.The median value for Asian victims for shot and shot&tasered the median is in the middle and in the positive quartile respectively. \n",
    "\n",
    "There are a lot of outlier values because we have not altered the null values."
   ]
  },
  {
   "cell_type": "markdown",
   "id": "b368c9ab",
   "metadata": {},
   "source": [
    "### Weapon used by the person that was shot."
   ]
  },
  {
   "cell_type": "code",
   "execution_count": 60,
   "id": "5ed85687",
   "metadata": {},
   "outputs": [
    {
     "data": {
      "image/png": "[encoded data removed]",
      "text/plain": [
       "<Figure size 338.4x360 with 1 Axes>"
      ]
     },
     "metadata": {
      "needs_background": "light"
     },
     "output_type": "display_data"
    }
   ],
   "source": [
    "plt.figure(figsize=(4.7, 5))\n",
    "ax = sns.countplot(y='armed', data=police_shootings,\n",
    "                   order = police_shootings.armed.value_counts().iloc[:10].index)\n",
    "plt.title('Weapon used by person shot')\n",
    "plt.show()"
   ]
  },
  {
   "cell_type": "markdown",
   "id": "5766b16a",
   "metadata": {},
   "source": [
    "From the above plot we can conclude that gun was the highest used weapon and baseball bat is the lowest, but as per the visible graph the least used is Taser."
   ]
  },
  {
   "cell_type": "markdown",
   "id": "9902d69e",
   "metadata": {},
   "source": [
    "#### Age bracket of the victims."
   ]
  },
  {
   "cell_type": "code",
   "execution_count": 18,
   "id": "67c73b58",
   "metadata": {
    "scrolled": false
   },
   "outputs": [
    {
     "data": {
      "image/png": "[encoded data removed]",
      "text/plain": [
       "<Figure size 360x360 with 1 Axes>"
      ]
     },
     "metadata": {
      "needs_background": "light"
     },
     "output_type": "display_data"
    }
   ],
   "source": [
    "sns.displot(police_shootings.age[~np.isnan(police_shootings.age)])\n",
    "plt.title('Age of individuals shot by police')\n",
    "plt.show()"
   ]
  },
  {
   "cell_type": "markdown",
   "id": "fd2dd805",
   "metadata": {},
   "source": [
    "Most of the individuals shot and killed by police were between the ages of 20 and 40, with very few older than 80 or younger than 16. Though there are 17 children under the age of 16 that were killed by police."
   ]
  },
  {
   "cell_type": "markdown",
   "id": "741bc3ff",
   "metadata": {},
   "source": [
    "##### Under age shootings ."
   ]
  },
  {
   "cell_type": "code",
   "execution_count": 108,
   "id": "6bf00e15",
   "metadata": {
    "scrolled": false
   },
   "outputs": [
    {
     "data": {
      "text/html": [
       "<div>\n",
       "<style scoped>\n",
       "    .dataframe tbody tr th:only-of-type {\n",
       "        vertical-align: middle;\n",
       "    }\n",
       "\n",
       "    .dataframe tbody tr th {\n",
       "        vertical-align: top;\n",
       "    }\n",
       "\n",
       "    .dataframe thead th {\n",
       "        text-align: right;\n",
       "    }\n",
       "</style>\n",
       "<table border=\"1\" class=\"dataframe\">\n",
       "  <thead>\n",
       "    <tr style=\"text-align: right;\">\n",
       "      <th></th>\n",
       "      <th>date</th>\n",
       "      <th>manner_of_death</th>\n",
       "      <th>armed</th>\n",
       "      <th>age</th>\n",
       "      <th>gender</th>\n",
       "      <th>race</th>\n",
       "      <th>city</th>\n",
       "      <th>state</th>\n",
       "      <th>signs_of_mental_illness</th>\n",
       "      <th>threat_level</th>\n",
       "      <th>body_camera</th>\n",
       "      <th>longitude</th>\n",
       "      <th>latitude</th>\n",
       "      <th>is_geocoding_exact</th>\n",
       "    </tr>\n",
       "  </thead>\n",
       "  <tbody>\n",
       "    <tr>\n",
       "      <th>435</th>\n",
       "      <td>2015-06-14</td>\n",
       "      <td>shot</td>\n",
       "      <td>gun</td>\n",
       "      <td>15.0</td>\n",
       "      <td>M</td>\n",
       "      <td>W</td>\n",
       "      <td>Cocoa</td>\n",
       "      <td>FL</td>\n",
       "      <td>True</td>\n",
       "      <td>attack</td>\n",
       "      <td>False</td>\n",
       "      <td>-80.792</td>\n",
       "      <td>28.360</td>\n",
       "      <td>True</td>\n",
       "    </tr>\n",
       "    <tr>\n",
       "      <th>596</th>\n",
       "      <td>2015-08-09</td>\n",
       "      <td>shot</td>\n",
       "      <td>NaN</td>\n",
       "      <td>15.0</td>\n",
       "      <td>M</td>\n",
       "      <td>B</td>\n",
       "      <td>Indianapolis</td>\n",
       "      <td>IN</td>\n",
       "      <td>False</td>\n",
       "      <td>attack</td>\n",
       "      <td>False</td>\n",
       "      <td>-86.080</td>\n",
       "      <td>39.817</td>\n",
       "      <td>True</td>\n",
       "    </tr>\n",
       "    <tr>\n",
       "      <th>776</th>\n",
       "      <td>2015-10-15</td>\n",
       "      <td>shot</td>\n",
       "      <td>gun</td>\n",
       "      <td>15.0</td>\n",
       "      <td>M</td>\n",
       "      <td>H</td>\n",
       "      <td>Miami</td>\n",
       "      <td>FL</td>\n",
       "      <td>False</td>\n",
       "      <td>attack</td>\n",
       "      <td>False</td>\n",
       "      <td>-80.413</td>\n",
       "      <td>25.507</td>\n",
       "      <td>True</td>\n",
       "    </tr>\n",
       "    <tr>\n",
       "      <th>833</th>\n",
       "      <td>2015-11-03</td>\n",
       "      <td>shot</td>\n",
       "      <td>unarmed</td>\n",
       "      <td>6.0</td>\n",
       "      <td>M</td>\n",
       "      <td>W</td>\n",
       "      <td>Marksville</td>\n",
       "      <td>LA</td>\n",
       "      <td>False</td>\n",
       "      <td>other</td>\n",
       "      <td>True</td>\n",
       "      <td>-92.050</td>\n",
       "      <td>31.125</td>\n",
       "      <td>True</td>\n",
       "    </tr>\n",
       "    <tr>\n",
       "      <th>1017</th>\n",
       "      <td>2016-01-11</td>\n",
       "      <td>shot</td>\n",
       "      <td>unarmed</td>\n",
       "      <td>12.0</td>\n",
       "      <td>F</td>\n",
       "      <td>W</td>\n",
       "      <td>Penn Township</td>\n",
       "      <td>PA</td>\n",
       "      <td>False</td>\n",
       "      <td>other</td>\n",
       "      <td>False</td>\n",
       "      <td>-77.034</td>\n",
       "      <td>40.398</td>\n",
       "      <td>True</td>\n",
       "    </tr>\n",
       "    <tr>\n",
       "      <th>1297</th>\n",
       "      <td>2016-04-19</td>\n",
       "      <td>shot</td>\n",
       "      <td>gun</td>\n",
       "      <td>15.0</td>\n",
       "      <td>M</td>\n",
       "      <td>B</td>\n",
       "      <td>St. Louis</td>\n",
       "      <td>MO</td>\n",
       "      <td>False</td>\n",
       "      <td>attack</td>\n",
       "      <td>False</td>\n",
       "      <td>-90.219</td>\n",
       "      <td>38.654</td>\n",
       "      <td>True</td>\n",
       "    </tr>\n",
       "    <tr>\n",
       "      <th>1587</th>\n",
       "      <td>2016-08-09</td>\n",
       "      <td>shot</td>\n",
       "      <td>gun</td>\n",
       "      <td>14.0</td>\n",
       "      <td>M</td>\n",
       "      <td>H</td>\n",
       "      <td>Los Angeles</td>\n",
       "      <td>CA</td>\n",
       "      <td>False</td>\n",
       "      <td>attack</td>\n",
       "      <td>True</td>\n",
       "      <td>-118.215</td>\n",
       "      <td>34.038</td>\n",
       "      <td>True</td>\n",
       "    </tr>\n",
       "    <tr>\n",
       "      <th>1680</th>\n",
       "      <td>2016-09-14</td>\n",
       "      <td>shot</td>\n",
       "      <td>toy weapon</td>\n",
       "      <td>13.0</td>\n",
       "      <td>M</td>\n",
       "      <td>B</td>\n",
       "      <td>Columbus</td>\n",
       "      <td>OH</td>\n",
       "      <td>False</td>\n",
       "      <td>other</td>\n",
       "      <td>False</td>\n",
       "      <td>-82.987</td>\n",
       "      <td>39.963</td>\n",
       "      <td>True</td>\n",
       "    </tr>\n",
       "    <tr>\n",
       "      <th>1849</th>\n",
       "      <td>2016-11-19</td>\n",
       "      <td>shot and Tasered</td>\n",
       "      <td>knife</td>\n",
       "      <td>15.0</td>\n",
       "      <td>M</td>\n",
       "      <td>A</td>\n",
       "      <td>Watsonville</td>\n",
       "      <td>CA</td>\n",
       "      <td>False</td>\n",
       "      <td>other</td>\n",
       "      <td>True</td>\n",
       "      <td>-121.791</td>\n",
       "      <td>36.971</td>\n",
       "      <td>True</td>\n",
       "    </tr>\n",
       "    <tr>\n",
       "      <th>2267</th>\n",
       "      <td>2017-04-24</td>\n",
       "      <td>shot</td>\n",
       "      <td>gun</td>\n",
       "      <td>15.0</td>\n",
       "      <td>M</td>\n",
       "      <td>B</td>\n",
       "      <td>Killeen</td>\n",
       "      <td>TX</td>\n",
       "      <td>False</td>\n",
       "      <td>attack</td>\n",
       "      <td>False</td>\n",
       "      <td>NaN</td>\n",
       "      <td>NaN</td>\n",
       "      <td>True</td>\n",
       "    </tr>\n",
       "    <tr>\n",
       "      <th>2279</th>\n",
       "      <td>2017-04-29</td>\n",
       "      <td>shot</td>\n",
       "      <td>unarmed</td>\n",
       "      <td>15.0</td>\n",
       "      <td>M</td>\n",
       "      <td>B</td>\n",
       "      <td>Balch Springs</td>\n",
       "      <td>TX</td>\n",
       "      <td>False</td>\n",
       "      <td>undetermined</td>\n",
       "      <td>True</td>\n",
       "      <td>-96.615</td>\n",
       "      <td>32.712</td>\n",
       "      <td>True</td>\n",
       "    </tr>\n",
       "    <tr>\n",
       "      <th>2295</th>\n",
       "      <td>2017-05-06</td>\n",
       "      <td>shot</td>\n",
       "      <td>toy weapon</td>\n",
       "      <td>15.0</td>\n",
       "      <td>M</td>\n",
       "      <td>W</td>\n",
       "      <td>San Diego</td>\n",
       "      <td>CA</td>\n",
       "      <td>True</td>\n",
       "      <td>attack</td>\n",
       "      <td>True</td>\n",
       "      <td>-117.226</td>\n",
       "      <td>32.957</td>\n",
       "      <td>True</td>\n",
       "    </tr>\n",
       "    <tr>\n",
       "      <th>2302</th>\n",
       "      <td>2017-05-09</td>\n",
       "      <td>shot</td>\n",
       "      <td>NaN</td>\n",
       "      <td>15.0</td>\n",
       "      <td>M</td>\n",
       "      <td>H</td>\n",
       "      <td>Bridgeport</td>\n",
       "      <td>CT</td>\n",
       "      <td>False</td>\n",
       "      <td>other</td>\n",
       "      <td>False</td>\n",
       "      <td>-73.199</td>\n",
       "      <td>41.175</td>\n",
       "      <td>True</td>\n",
       "    </tr>\n",
       "    <tr>\n",
       "      <th>2468</th>\n",
       "      <td>2017-07-07</td>\n",
       "      <td>shot</td>\n",
       "      <td>undetermined</td>\n",
       "      <td>15.0</td>\n",
       "      <td>M</td>\n",
       "      <td>NaN</td>\n",
       "      <td>Huntsville</td>\n",
       "      <td>AL</td>\n",
       "      <td>False</td>\n",
       "      <td>other</td>\n",
       "      <td>False</td>\n",
       "      <td>-86.612</td>\n",
       "      <td>34.712</td>\n",
       "      <td>True</td>\n",
       "    </tr>\n",
       "    <tr>\n",
       "      <th>2547</th>\n",
       "      <td>2017-08-03</td>\n",
       "      <td>shot</td>\n",
       "      <td>gun</td>\n",
       "      <td>15.0</td>\n",
       "      <td>M</td>\n",
       "      <td>B</td>\n",
       "      <td>Gary</td>\n",
       "      <td>IN</td>\n",
       "      <td>False</td>\n",
       "      <td>attack</td>\n",
       "      <td>False</td>\n",
       "      <td>-87.401</td>\n",
       "      <td>41.583</td>\n",
       "      <td>True</td>\n",
       "    </tr>\n",
       "    <tr>\n",
       "      <th>2649</th>\n",
       "      <td>2017-09-15</td>\n",
       "      <td>shot</td>\n",
       "      <td>crowbar</td>\n",
       "      <td>15.0</td>\n",
       "      <td>M</td>\n",
       "      <td>H</td>\n",
       "      <td>Haymarket</td>\n",
       "      <td>VA</td>\n",
       "      <td>False</td>\n",
       "      <td>other</td>\n",
       "      <td>False</td>\n",
       "      <td>-77.662</td>\n",
       "      <td>38.810</td>\n",
       "      <td>True</td>\n",
       "    </tr>\n",
       "    <tr>\n",
       "      <th>2798</th>\n",
       "      <td>2017-11-08</td>\n",
       "      <td>shot</td>\n",
       "      <td>knife</td>\n",
       "      <td>14.0</td>\n",
       "      <td>M</td>\n",
       "      <td>N</td>\n",
       "      <td>Odanah</td>\n",
       "      <td>WI</td>\n",
       "      <td>False</td>\n",
       "      <td>other</td>\n",
       "      <td>False</td>\n",
       "      <td>-90.650</td>\n",
       "      <td>46.597</td>\n",
       "      <td>True</td>\n",
       "    </tr>\n",
       "    <tr>\n",
       "      <th>2835</th>\n",
       "      <td>2017-11-20</td>\n",
       "      <td>shot</td>\n",
       "      <td>knife</td>\n",
       "      <td>15.0</td>\n",
       "      <td>M</td>\n",
       "      <td>W</td>\n",
       "      <td>Gulfport</td>\n",
       "      <td>MS</td>\n",
       "      <td>False</td>\n",
       "      <td>other</td>\n",
       "      <td>False</td>\n",
       "      <td>-89.140</td>\n",
       "      <td>30.451</td>\n",
       "      <td>True</td>\n",
       "    </tr>\n",
       "    <tr>\n",
       "      <th>2899</th>\n",
       "      <td>2017-12-21</td>\n",
       "      <td>shot</td>\n",
       "      <td>unarmed</td>\n",
       "      <td>6.0</td>\n",
       "      <td>M</td>\n",
       "      <td>W</td>\n",
       "      <td>Schertz</td>\n",
       "      <td>TX</td>\n",
       "      <td>False</td>\n",
       "      <td>other</td>\n",
       "      <td>False</td>\n",
       "      <td>-98.257</td>\n",
       "      <td>29.552</td>\n",
       "      <td>True</td>\n",
       "    </tr>\n",
       "    <tr>\n",
       "      <th>3611</th>\n",
       "      <td>2018-08-18</td>\n",
       "      <td>shot</td>\n",
       "      <td>gun</td>\n",
       "      <td>15.0</td>\n",
       "      <td>M</td>\n",
       "      <td>H</td>\n",
       "      <td>Ceres</td>\n",
       "      <td>CA</td>\n",
       "      <td>False</td>\n",
       "      <td>other</td>\n",
       "      <td>True</td>\n",
       "      <td>-120.801</td>\n",
       "      <td>37.580</td>\n",
       "      <td>True</td>\n",
       "    </tr>\n",
       "    <tr>\n",
       "      <th>3970</th>\n",
       "      <td>2019-01-15</td>\n",
       "      <td>shot</td>\n",
       "      <td>toy weapon</td>\n",
       "      <td>14.0</td>\n",
       "      <td>M</td>\n",
       "      <td>H</td>\n",
       "      <td>Tempe</td>\n",
       "      <td>AZ</td>\n",
       "      <td>False</td>\n",
       "      <td>other</td>\n",
       "      <td>True</td>\n",
       "      <td>NaN</td>\n",
       "      <td>NaN</td>\n",
       "      <td>True</td>\n",
       "    </tr>\n",
       "    <tr>\n",
       "      <th>5002</th>\n",
       "      <td>2020-01-30</td>\n",
       "      <td>shot</td>\n",
       "      <td>gun</td>\n",
       "      <td>15.0</td>\n",
       "      <td>M</td>\n",
       "      <td>B</td>\n",
       "      <td>Columbus</td>\n",
       "      <td>OH</td>\n",
       "      <td>False</td>\n",
       "      <td>attack</td>\n",
       "      <td>False</td>\n",
       "      <td>-82.913</td>\n",
       "      <td>39.972</td>\n",
       "      <td>True</td>\n",
       "    </tr>\n",
       "    <tr>\n",
       "      <th>5834</th>\n",
       "      <td>2020-11-23</td>\n",
       "      <td>shot</td>\n",
       "      <td>unarmed</td>\n",
       "      <td>15.0</td>\n",
       "      <td>M</td>\n",
       "      <td>H</td>\n",
       "      <td>Oklahoma City</td>\n",
       "      <td>OK</td>\n",
       "      <td>False</td>\n",
       "      <td>other</td>\n",
       "      <td>True</td>\n",
       "      <td>-97.530</td>\n",
       "      <td>35.388</td>\n",
       "      <td>True</td>\n",
       "    </tr>\n",
       "    <tr>\n",
       "      <th>6189</th>\n",
       "      <td>2021-03-29</td>\n",
       "      <td>shot</td>\n",
       "      <td>undetermined</td>\n",
       "      <td>13.0</td>\n",
       "      <td>M</td>\n",
       "      <td>H</td>\n",
       "      <td>Chicago</td>\n",
       "      <td>IL</td>\n",
       "      <td>False</td>\n",
       "      <td>other</td>\n",
       "      <td>True</td>\n",
       "      <td>-87.708</td>\n",
       "      <td>41.850</td>\n",
       "      <td>True</td>\n",
       "    </tr>\n",
       "    <tr>\n",
       "      <th>6636</th>\n",
       "      <td>2021-08-27</td>\n",
       "      <td>shot</td>\n",
       "      <td>unarmed</td>\n",
       "      <td>8.0</td>\n",
       "      <td>F</td>\n",
       "      <td>NaN</td>\n",
       "      <td>Sharon Hill</td>\n",
       "      <td>PA</td>\n",
       "      <td>False</td>\n",
       "      <td>other</td>\n",
       "      <td>False</td>\n",
       "      <td>-75.269</td>\n",
       "      <td>39.908</td>\n",
       "      <td>True</td>\n",
       "    </tr>\n",
       "    <tr>\n",
       "      <th>6829</th>\n",
       "      <td>2021-11-02</td>\n",
       "      <td>shot</td>\n",
       "      <td>gun</td>\n",
       "      <td>15.0</td>\n",
       "      <td>M</td>\n",
       "      <td>NaN</td>\n",
       "      <td>Aransas Pass</td>\n",
       "      <td>TX</td>\n",
       "      <td>False</td>\n",
       "      <td>attack</td>\n",
       "      <td>False</td>\n",
       "      <td>-97.429</td>\n",
       "      <td>27.741</td>\n",
       "      <td>True</td>\n",
       "    </tr>\n",
       "    <tr>\n",
       "      <th>6968</th>\n",
       "      <td>2021-12-23</td>\n",
       "      <td>shot</td>\n",
       "      <td>unarmed</td>\n",
       "      <td>14.0</td>\n",
       "      <td>F</td>\n",
       "      <td>NaN</td>\n",
       "      <td>Los Angeles</td>\n",
       "      <td>CA</td>\n",
       "      <td>False</td>\n",
       "      <td>other</td>\n",
       "      <td>True</td>\n",
       "      <td>NaN</td>\n",
       "      <td>NaN</td>\n",
       "      <td>True</td>\n",
       "    </tr>\n",
       "    <tr>\n",
       "      <th>7144</th>\n",
       "      <td>2022-03-01</td>\n",
       "      <td>shot</td>\n",
       "      <td>gun</td>\n",
       "      <td>12.0</td>\n",
       "      <td>M</td>\n",
       "      <td>NaN</td>\n",
       "      <td>Philadelphia</td>\n",
       "      <td>PA</td>\n",
       "      <td>False</td>\n",
       "      <td>other</td>\n",
       "      <td>False</td>\n",
       "      <td>NaN</td>\n",
       "      <td>NaN</td>\n",
       "      <td>True</td>\n",
       "    </tr>\n",
       "    <tr>\n",
       "      <th>7152</th>\n",
       "      <td>2022-03-03</td>\n",
       "      <td>shot</td>\n",
       "      <td>undetermined</td>\n",
       "      <td>14.0</td>\n",
       "      <td>M</td>\n",
       "      <td>NaN</td>\n",
       "      <td>Midland</td>\n",
       "      <td>TX</td>\n",
       "      <td>False</td>\n",
       "      <td>undetermined</td>\n",
       "      <td>False</td>\n",
       "      <td>-102.171</td>\n",
       "      <td>32.046</td>\n",
       "      <td>True</td>\n",
       "    </tr>\n",
       "  </tbody>\n",
       "</table>\n",
       "</div>"
      ],
      "text/plain": [
       "            date   manner_of_death         armed   age gender race  \\\n",
       "435   2015-06-14              shot           gun  15.0      M    W   \n",
       "596   2015-08-09              shot           NaN  15.0      M    B   \n",
       "776   2015-10-15              shot           gun  15.0      M    H   \n",
       "833   2015-11-03              shot       unarmed   6.0      M    W   \n",
       "1017  2016-01-11              shot       unarmed  12.0      F    W   \n",
       "1297  2016-04-19              shot           gun  15.0      M    B   \n",
       "1587  2016-08-09              shot           gun  14.0      M    H   \n",
       "1680  2016-09-14              shot    toy weapon  13.0      M    B   \n",
       "1849  2016-11-19  shot and Tasered         knife  15.0      M    A   \n",
       "2267  2017-04-24              shot           gun  15.0      M    B   \n",
       "2279  2017-04-29              shot       unarmed  15.0      M    B   \n",
       "2295  2017-05-06              shot    toy weapon  15.0      M    W   \n",
       "2302  2017-05-09              shot           NaN  15.0      M    H   \n",
       "2468  2017-07-07              shot  undetermined  15.0      M  NaN   \n",
       "2547  2017-08-03              shot           gun  15.0      M    B   \n",
       "2649  2017-09-15              shot       crowbar  15.0      M    H   \n",
       "2798  2017-11-08              shot         knife  14.0      M    N   \n",
       "2835  2017-11-20              shot         knife  15.0      M    W   \n",
       "2899  2017-12-21              shot       unarmed   6.0      M    W   \n",
       "3611  2018-08-18              shot           gun  15.0      M    H   \n",
       "3970  2019-01-15              shot    toy weapon  14.0      M    H   \n",
       "5002  2020-01-30              shot           gun  15.0      M    B   \n",
       "5834  2020-11-23              shot       unarmed  15.0      M    H   \n",
       "6189  2021-03-29              shot  undetermined  13.0      M    H   \n",
       "6636  2021-08-27              shot       unarmed   8.0      F  NaN   \n",
       "6829  2021-11-02              shot           gun  15.0      M  NaN   \n",
       "6968  2021-12-23              shot       unarmed  14.0      F  NaN   \n",
       "7144  2022-03-01              shot           gun  12.0      M  NaN   \n",
       "7152  2022-03-03              shot  undetermined  14.0      M  NaN   \n",
       "\n",
       "               city state  signs_of_mental_illness  threat_level  body_camera  \\\n",
       "435           Cocoa    FL                     True        attack        False   \n",
       "596    Indianapolis    IN                    False        attack        False   \n",
       "776           Miami    FL                    False        attack        False   \n",
       "833      Marksville    LA                    False         other         True   \n",
       "1017  Penn Township    PA                    False         other        False   \n",
       "1297      St. Louis    MO                    False        attack        False   \n",
       "1587    Los Angeles    CA                    False        attack         True   \n",
       "1680       Columbus    OH                    False         other        False   \n",
       "1849    Watsonville    CA                    False         other         True   \n",
       "2267        Killeen    TX                    False        attack        False   \n",
       "2279  Balch Springs    TX                    False  undetermined         True   \n",
       "2295      San Diego    CA                     True        attack         True   \n",
       "2302     Bridgeport    CT                    False         other        False   \n",
       "2468     Huntsville    AL                    False         other        False   \n",
       "2547           Gary    IN                    False        attack        False   \n",
       "2649      Haymarket    VA                    False         other        False   \n",
       "2798         Odanah    WI                    False         other        False   \n",
       "2835       Gulfport    MS                    False         other        False   \n",
       "2899        Schertz    TX                    False         other        False   \n",
       "3611          Ceres    CA                    False         other         True   \n",
       "3970          Tempe    AZ                    False         other         True   \n",
       "5002       Columbus    OH                    False        attack        False   \n",
       "5834  Oklahoma City    OK                    False         other         True   \n",
       "6189        Chicago    IL                    False         other         True   \n",
       "6636    Sharon Hill    PA                    False         other        False   \n",
       "6829   Aransas Pass    TX                    False        attack        False   \n",
       "6968    Los Angeles    CA                    False         other         True   \n",
       "7144   Philadelphia    PA                    False         other        False   \n",
       "7152        Midland    TX                    False  undetermined        False   \n",
       "\n",
       "      longitude  latitude  is_geocoding_exact  \n",
       "435     -80.792    28.360                True  \n",
       "596     -86.080    39.817                True  \n",
       "776     -80.413    25.507                True  \n",
       "833     -92.050    31.125                True  \n",
       "1017    -77.034    40.398                True  \n",
       "1297    -90.219    38.654                True  \n",
       "1587   -118.215    34.038                True  \n",
       "1680    -82.987    39.963                True  \n",
       "1849   -121.791    36.971                True  \n",
       "2267        NaN       NaN                True  \n",
       "2279    -96.615    32.712                True  \n",
       "2295   -117.226    32.957                True  \n",
       "2302    -73.199    41.175                True  \n",
       "2468    -86.612    34.712                True  \n",
       "2547    -87.401    41.583                True  \n",
       "2649    -77.662    38.810                True  \n",
       "2798    -90.650    46.597                True  \n",
       "2835    -89.140    30.451                True  \n",
       "2899    -98.257    29.552                True  \n",
       "3611   -120.801    37.580                True  \n",
       "3970        NaN       NaN                True  \n",
       "5002    -82.913    39.972                True  \n",
       "5834    -97.530    35.388                True  \n",
       "6189    -87.708    41.850                True  \n",
       "6636    -75.269    39.908                True  \n",
       "6829    -97.429    27.741                True  \n",
       "6968        NaN       NaN                True  \n",
       "7144        NaN       NaN                True  \n",
       "7152   -102.171    32.046                True  "
      ]
     },
     "execution_count": 108,
     "metadata": {},
     "output_type": "execute_result"
    }
   ],
   "source": [
    "police_shootings[police_shootings.age<16]\n"
   ]
  },
  {
   "cell_type": "markdown",
   "id": "e4af30e7",
   "metadata": {},
   "source": [
    "There were 25 shootings that were executed for under age 16."
   ]
  },
  {
   "cell_type": "markdown",
   "id": "2059085e",
   "metadata": {},
   "source": [
    "### Plot police shootings by gender\n"
   ]
  },
  {
   "cell_type": "code",
   "execution_count": 109,
   "id": "879d3b9e",
   "metadata": {
    "scrolled": false
   },
   "outputs": [
    {
     "data": {
      "image/png": "[encoded data removed]",
      "text/plain": [
       "<Figure size 432x288 with 1 Axes>"
      ]
     },
     "metadata": {
      "needs_background": "light"
     },
     "output_type": "display_data"
    }
   ],
   "source": [
    "ax = sns.countplot(x = \"gender\", data = police_shootings,\n",
    "                   order = police_shootings.gender.value_counts().index)\n",
    "for p in ax.patches:\n",
    "    x = p.get_bbox().get_points()[:,0]\n",
    "    y = p.get_bbox().get_points()[1,1]\n",
    "    ax.annotate('{:.2g}%'.format(100.*y/len(police_shootings)), (x.mean(), y), ha='center', va='bottom')\n",
    "plt.title('Police Killings by Gender')\n",
    "plt.show()"
   ]
  },
  {
   "cell_type": "markdown",
   "id": "1d28c65d",
   "metadata": {},
   "source": [
    "##### But the Gender Ratio in the United States in 2020 is 97.948 males per 100 females as per the records till 2020.\n",
    "#Reference - https://statisticstimes.com/demographics/country/us-sex-ratio.php"
   ]
  },
  {
   "cell_type": "code",
   "execution_count": 122,
   "id": "5530f7d0",
   "metadata": {},
   "outputs": [],
   "source": [
    "#add reference\n",
    "def ActualVsPopulation(df, pop, group):\n",
    "    \"\"\"Get dataframe with actual per-group percentage vs population group percentage\"\"\"\n",
    "    d = {group: [], 'type': [], 'percent': []}\n",
    "    tot_pop = float(sum(pop.values()))\n",
    "    for g in police_shootings[group].dropna().unique(): #for each group\n",
    "\n",
    "        # Actual percentages\n",
    "        d[group].append(g)\n",
    "        d['type'].append('Shootings')\n",
    "        d['percent'].append(100*df[df[group]==g].id.count()/df.id.count())\n",
    "\n",
    "        # Percentages if statistic followed population distribution\n",
    "        d[group].append(g)\n",
    "        d['type'].append('Population') #based on population percentage\n",
    "        d['percent'].append(100*pop[g]/tot_pop)\n",
    "        \n",
    "    return pd.DataFrame(data=d)\n"
   ]
  },
  {
   "cell_type": "code",
   "execution_count": 123,
   "id": "9b89ff29",
   "metadata": {
    "scrolled": true
   },
   "outputs": [
    {
     "data": {
      "image/png": "[encoded data removed]",
      "text/plain": [
       "<Figure size 432x288 with 1 Axes>"
      ]
     },
     "metadata": {
      "needs_background": "light"
     },
     "output_type": "display_data"
    }
   ],
   "source": [
    "# Plot percent police killings by gender vs population percentages\n",
    "\n",
    "pop_g = {'M': 49.2, 'F': 50.8} #percent population by gender https://www.census.gov/quickfacts/fact/table/US\n",
    "df= ActualVsPopulation(police_shootings, pop_g, 'gender')\n",
    "sns.barplot(x=\"gender\", y=\"percent\", hue=\"type\", data=df, palette=[\"r\", \"C0\"])\n",
    "plt.title('Actual Police Killings vs Population Distribution (by Gender)')\n",
    "plt.show()\n"
   ]
  },
  {
   "cell_type": "markdown",
   "id": "2007b535",
   "metadata": {},
   "source": [
    "As per the above graph what we observe is even though the male population is less than the female population there were more male victims than female."
   ]
  },
  {
   "cell_type": "markdown",
   "id": "abd3eefb",
   "metadata": {},
   "source": [
    "### Statewise comparison of killings."
   ]
  },
  {
   "cell_type": "code",
   "execution_count": 115,
   "id": "eac20734",
   "metadata": {
    "scrolled": true
   },
   "outputs": [
    {
     "data": {
      "image/png": "[encoded data removed]",
      "text/plain": [
       "<Figure size 432x936 with 1 Axes>"
      ]
     },
     "metadata": {
      "needs_background": "light"
     },
     "output_type": "display_data"
    }
   ],
   "source": [
    "#using countplot\n",
    "plt.figure(figsize=(6, 13))\n",
    "sns.countplot(y=\"state\", \n",
    "              data=police_shootings,\n",
    "              order=police_shootings.state.value_counts().index)\n",
    "plt.title('Police Killings By State')\n",
    "plt.show()"
   ]
  },
  {
   "cell_type": "markdown",
   "id": "897409ce",
   "metadata": {},
   "source": [
    "From the above plot we conclude that California police has experienced the highest number of shootings.Rhode Island has the least number of shootings by the local police."
   ]
  },
  {
   "cell_type": "code",
   "execution_count": 71,
   "id": "337185d1",
   "metadata": {},
   "outputs": [
    {
     "data": {
      "image/png": "[encoded data removed]",
      "text/plain": [
       "<Figure size 360x576 with 1 Axes>"
      ]
     },
     "metadata": {
      "needs_background": "light"
     },
     "output_type": "display_data"
    }
   ],
   "source": [
    "#Plot shootings by month\n",
    "plt.figure(figsize=(5,8))\n",
    "sns.countplot(y=police_shootings.date.dt.strftime('%Y %m %B'), \n",
    "              order=sorted(police_shootings.date.dt.strftime('%Y %m %B').unique()))\n",
    "plt.title('Police Killings By Month since start of dataset')\n",
    "plt.show()"
   ]
  },
  {
   "cell_type": "markdown",
   "id": "1ad2ae6d",
   "metadata": {},
   "source": [
    "### Police killings by race"
   ]
  },
  {
   "cell_type": "code",
   "execution_count": 14,
   "id": "c8bdfe6d",
   "metadata": {
    "scrolled": true
   },
   "outputs": [
    {
     "data": {
      "image/png": "[encoded data removed]",
      "text/plain": [
       "<Figure size 432x288 with 1 Axes>"
      ]
     },
     "metadata": {
      "needs_background": "light"
     },
     "output_type": "display_data"
    }
   ],
   "source": [
    "ax = sns.countplot(x=\"race\", data=police_shootings,\n",
    "                   order = police_shootings.race.value_counts().index)\n",
    "for p in ax.patches:\n",
    "    x = p.get_bbox().get_points()[:,0]\n",
    "    y = p.get_bbox().get_points()[1,1]\n",
    "    ax.annotate('{:.2g}%'.format(100.*y/len(police_shootings)), (x.mean(), y), ha='center', va='bottom')\n",
    "plt.title('Police Killings by Race')\n",
    "plt.show()"
   ]
  },
  {
   "cell_type": "markdown",
   "id": "ff7fcf73",
   "metadata": {},
   "source": [
    "#### Police killings for every race for different states"
   ]
  },
  {
   "cell_type": "code",
   "execution_count": 29,
   "id": "99c1bbfa",
   "metadata": {
    "scrolled": false
   },
   "outputs": [
    {
     "data": {
      "image/png": "[encoded data removed]",
      "text/plain": [
       "<Figure size 720x576 with 9 Axes>"
      ]
     },
     "metadata": {
      "needs_background": "light"
     },
     "output_type": "display_data"
    }
   ],
   "source": [
    "police_shootings.state.groupby(police_shootings['race']).value_counts().groupby(level=0).head(5).unstack(level=0).plot(kind='bar',subplots=True, layout=(3, 3),sharex=False, figsize=(10,8))\n",
    "plt.tight_layout()"
   ]
  },
  {
   "cell_type": "markdown",
   "id": "f40d9c0a",
   "metadata": {},
   "source": [
    "If we take the first few states in consideration we see that for the top 5 states.\n",
    "\n",
    "1. A->Asian : California, Hawai, Washington State, Texas, colarado in descending order had number of Asians shot by the Police.\n",
    "2. B->Black : California, Florida, Texas,Georgia and Ohio.\n",
    "3. H->Hispanic : California has the highest hispanics shot and and florida has the least.\n",
    "4. N->Native : Arizona, Oklahoma, Alaska, Washington State and North Dakota.\n",
    "5. O->Others : Hawai, California, Florida, Minnesota and Ohio.\n",
    "6. W->Whites : California, Texas, Florida, Arizona and Colarado.\n",
    "\n",
    "This proves the above plot where statewise killings are plotted."
   ]
  },
  {
   "cell_type": "markdown",
   "id": "0d3a84a2",
   "metadata": {},
   "source": [
    "#### Police killings by every race for cities"
   ]
  },
  {
   "cell_type": "code",
   "execution_count": 30,
   "id": "055c2a44",
   "metadata": {
    "scrolled": true
   },
   "outputs": [
    {
     "data": {
      "image/png": "[encoded data removed]",
      "text/plain": [
       "<Figure size 720x576 with 9 Axes>"
      ]
     },
     "metadata": {
      "needs_background": "light"
     },
     "output_type": "display_data"
    }
   ],
   "source": [
    "police_shootings.city.groupby(police_shootings['race']).value_counts().groupby(level=0).head(5).unstack(level=0).plot(kind='bar',\n",
    "subplots=True, layout=(3, 3),sharex=False, figsize=(10,8))\n",
    "plt.tight_layout()"
   ]
  },
  {
   "cell_type": "markdown",
   "id": "acaa0aa4",
   "metadata": {},
   "source": [
    " If we take the first few cities in consideration we see that for the top 5 cities.\n",
    " \n",
    " 1. A->Asian :  Honolulu, Long Beach, Stockton, Athens/Denver in descending order of Asians shot by the Police.\n",
    " 2. B->Black : Chicago, Houston,Columbus/St.Louis, Atlanta in descending order of Blacks shot by the Police.\n",
    " 3. H->Hispanic : Los Angeles, San Antonio, Pheonix, Albuquer, Bershfield \n",
    " 4. N->Native :Fairbanks, Billings,Pheonix, Denver, Flagstaff.\n",
    " 5. O->Others : Hawai, California, Florida, Minnesota and Ohio.\n",
    " 6. W->Whites : Pheonix, Los Angeles, Las Vegas, Houston, Tucson."
   ]
  },
  {
   "cell_type": "code",
   "execution_count": 61,
   "id": "b7328850",
   "metadata": {},
   "outputs": [
    {
     "data": {
      "text/plain": [
       "Text(0.5, 1.0, 'Age distribution, by race')"
      ]
     },
     "execution_count": 61,
     "metadata": {},
     "output_type": "execute_result"
    },
    {
     "data": {
      "image/png": "[encoded data removed]",
      "text/plain": [
       "<Figure size 909.875x288 with 1 Axes>"
      ]
     },
     "metadata": {
      "needs_background": "light"
     },
     "output_type": "display_data"
    }
   ],
   "source": [
    "# Creating a dataframes for 3 races and compare their age graphs\n",
    "\n",
    "three_races = df.loc[(df[\"race\"] == \"B\") | (df[\"race\"] == \"W\") | (df[\"race\"] == \"H\")] \n",
    "g = sns.FacetGrid(data=three_races, hue=\"race\", aspect=3, height=4)\n",
    "g.map(sns.kdeplot, \"age\", shade=True)\n",
    "g.add_legend(title=\"Race\")\n",
    "\n",
    "\n",
    "g.set_ylabels(\"Count\")\n",
    "plt.title(\"Age distribution, by race\", fontsize=17)"
   ]
  },
  {
   "cell_type": "markdown",
   "id": "1f24bff2",
   "metadata": {},
   "source": [
    "1. The shootings for Blacks have a peak age around 20-30.\n",
    "2. The shootings for the Hispanics has a peak age around 20-25 and again 35-45.\n",
    "3. The shootings for the White has a peak age around 40.\n",
    "\n",
    "Surprisingly age groups above 60 were also among the victims in this."
   ]
  },
  {
   "cell_type": "markdown",
   "id": "c18d99f3",
   "metadata": {},
   "source": [
    "### Signs of Mental Illness "
   ]
  },
  {
   "cell_type": "code",
   "execution_count": 15,
   "id": "82395992",
   "metadata": {
    "scrolled": true
   },
   "outputs": [
    {
     "data": {
      "image/png": "[encoded data removed]",
      "text/plain": [
       "<Figure size 432x288 with 1 Axes>"
      ]
     },
     "metadata": {
      "needs_background": "light"
     },
     "output_type": "display_data"
    }
   ],
   "source": [
    "# Plot how many individuals showed signs of mental illness\n",
    "ax = sns.countplot(x='signs_of_mental_illness', data=police_shootings)\n",
    "for p in ax.patches:\n",
    "    x = p.get_bbox().get_points()[:,0]\n",
    "    y = p.get_bbox().get_points()[1,1]\n",
    "    ax.annotate('{:.2g}%'.format(100.*y/len(police_shootings)), (x.mean(), y), ha='center', va='bottom')\n",
    "plt.title('Individuals showing signs of mental illness\\nwhen shot by police')\n",
    "plt.show()"
   ]
  },
  {
   "cell_type": "markdown",
   "id": "581bb376",
   "metadata": {},
   "source": [
    "Only 22% of the victims showed signs of Mental Illness."
   ]
  },
  {
   "cell_type": "markdown",
   "id": "d49bc6ef",
   "metadata": {},
   "source": [
    "### Let us study if the local police could record anything through their Body cams while the incidents took place."
   ]
  },
  {
   "cell_type": "markdown",
   "id": "6563c325",
   "metadata": {},
   "source": [
    "#### If the police had body cameras on "
   ]
  },
  {
   "cell_type": "code",
   "execution_count": 16,
   "id": "684ad2cf",
   "metadata": {
    "scrolled": true
   },
   "outputs": [
    {
     "data": {
      "image/png": "[encoded data removed]",
      "text/plain": [
       "<Figure size 432x288 with 1 Axes>"
      ]
     },
     "metadata": {
      "needs_background": "light"
     },
     "output_type": "display_data"
    }
   ],
   "source": [
    "# Ploting how many shootings have body camera footage\n",
    "ax = sns.countplot(x='body_camera', data=police_shootings)\n",
    "for p in ax.patches:\n",
    "    x = p.get_bbox().get_points()[:,0]\n",
    "    y = p.get_bbox().get_points()[1,1]\n",
    "    ax.annotate('{:.2g}%'.format(100.*y/len(police_shootings)), (x.mean(), y), ha='center', va='bottom')\n",
    "plt.title('Whether an officer was wearing a body camera \\nat the time of the shooting')\n",
    "plt.show()"
   ]
  },
  {
   "cell_type": "markdown",
   "id": "676d8373",
   "metadata": {},
   "source": [
    "If we take the overall dataset only 14% officers were wearing a body cam when the shootings took place."
   ]
  },
  {
   "cell_type": "markdown",
   "id": "4d439fcf",
   "metadata": {},
   "source": [
    "#### Body camera usage per state"
   ]
  },
  {
   "cell_type": "code",
   "execution_count": 20,
   "id": "629d169e",
   "metadata": {
    "scrolled": true
   },
   "outputs": [
    {
     "data": {
      "image/png": "[encoded data removed]",
      "text/plain": [
       "<Figure size 432x936 with 1 Axes>"
      ]
     },
     "metadata": {
      "needs_background": "light"
     },
     "output_type": "display_data"
    }
   ],
   "source": [
    "# Count the proportion of shootings w/ body camera by state\n",
    "police_shootingsps = police_shootings.groupby('state').agg({'body_camera': 'mean'})\n",
    "\n",
    "# Plot percent shootings w/ body camera by state\n",
    "plt.figure(figsize=(6, 13))\n",
    "sns.barplot(y=police_shootingsps.index, \n",
    "            x=100.*police_shootingsps.values.flatten(),\n",
    "            order=police_shootingsps.body_camera.sort_values(ascending=False).index)\n",
    "plt.title('Percent of Police Killings\\nwith body camera, by State')\n",
    "plt.xlabel('Percent of Shootings with body camera')\n",
    "plt.xlim([0, 100])\n",
    "plt.show()"
   ]
  },
  {
   "cell_type": "markdown",
   "id": "6f0a14e1",
   "metadata": {},
   "source": [
    "The highest percentage of police killings with a body cam i.e.50% of the police officers in DC had a body cam on."
   ]
  },
  {
   "cell_type": "markdown",
   "id": "c9f6e89c",
   "metadata": {},
   "source": [
    "### One Final Analysis- were the victims on the run while they were shot or was it just a simple encounter?"
   ]
  },
  {
   "cell_type": "code",
   "execution_count": 62,
   "id": "9f8ddc8e",
   "metadata": {},
   "outputs": [
    {
     "data": {
      "image/png": "[encoded data removed]",
      "text/plain": [
       "<Figure size 432x288 with 1 Axes>"
      ]
     },
     "metadata": {
      "needs_background": "light"
     },
     "output_type": "display_data"
    }
   ],
   "source": [
    "# Plot how many individuals were fleeing when shot\n",
    "ax = sns.countplot(x='flee', data=police_shootings)\n",
    "for p in ax.patches:\n",
    "    x = p.get_bbox().get_points()[:,0]\n",
    "    y = p.get_bbox().get_points()[1,1]\n",
    "    ax.annotate('{:.2g}%'.format(100.*y/len(police_shootings)), (x.mean(), y), ha='center', va='bottom')\n",
    "plt.title('Method of fleeing\\nwhen shot by police')\n",
    "plt.show()\n"
   ]
  },
  {
   "cell_type": "markdown",
   "id": "70ad28e1",
   "metadata": {},
   "source": [
    "Almost 50% of the individuals were not fleeing when they were shot or Shot&tasered, 16% were fleeing in a car, 13% were on the run and around 4% of them had other tricks trying to get away."
   ]
  },
  {
   "cell_type": "markdown",
   "id": "6d5ded85",
   "metadata": {},
   "source": [
    "### SOME CONCLUSIONS"
   ]
  },
  {
   "cell_type": "markdown",
   "id": "6b3fc878",
   "metadata": {},
   "source": [
    "1. We must now understand that having a body cam on makes sure that there is no wrong way or unwanted killings or shootings that are happening and every officer should have a body camera on them to record the incident for clear perspective.\n",
    "2. As per our dataset the killings weren't based on racial differences.\n",
    "3. Caliornia has had the highest number of killings/shootings.\n",
    "4. Most number of victims had a gun with them when they were shot and they were not fleeing, shot in the non-moving state."
   ]
  },
  {
   "cell_type": "markdown",
   "id": "0ca1e580",
   "metadata": {},
   "source": [
    "##### The shooting numbers in the USA have not decreased since the start of our dataset which is surprisingly sad and need an investigation for more specific reason than being armed or racial reasons."
   ]
  }
 ],
 "metadata": {
  "kernelspec": {
   "display_name": "Python 3",
   "language": "python",
   "name": "python3"
  },
  "language_info": {
   "codemirror_mode": {
    "name": "ipython",
    "version": 3
   },
   "file_extension": ".py",
   "mimetype": "text/x-python",
   "name": "python",
   "nbconvert_exporter": "python",
   "pygments_lexer": "ipython3",
   "version": "3.8.8"
  }
 },
 "nbformat": 4,
 "nbformat_minor": 5
}
